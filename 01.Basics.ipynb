{
 "cells": [
  {
   "cell_type": "markdown",
   "id": "7217fea6",
   "metadata": {},
   "source": [
    "# Python Basics"
   ]
  },
  {
   "cell_type": "markdown",
   "id": "356a4e57",
   "metadata": {},
   "source": [
    "\n",
    "Python is an easy to learn , powerful programming language. Python’s elegant syntax and dynamic typing, \n",
    "together with its interpreted nature, make it an ideal language for scripting and rapid application development."
   ]
  },
  {
   "cell_type": "raw",
   "id": "77741c19",
   "metadata": {},
   "source": [
    "# Maths Operators\n",
    "\n",
    "Operators  \t   Operation\t            Example\n",
    "\n",
    "**\t           Exponent\t                2 ** 3 = 8\n",
    "%\t           Modulus/Remainder\t    22 % 8 = 6\n",
    "//\t           Integer division\t        22 // 8 = 2\n",
    "/\t           Division\t                22 / 8 = 2.75\n",
    "*\t           Multiplication\t        3 * 3 = 9\n",
    "-\t           Subtraction\t            5 - 2 = 3\n",
    "+\t           Addition\t                2 + 2 = 4"
   ]
  },
  {
   "cell_type": "code",
   "execution_count": 1,
   "id": "3a9e1cd1",
   "metadata": {},
   "outputs": [],
   "source": [
    "#Examples of expressions"
   ]
  },
  {
   "cell_type": "code",
   "execution_count": 2,
   "id": "5657f48b",
   "metadata": {},
   "outputs": [
    {
     "data": {
      "text/plain": [
       "17"
      ]
     },
     "execution_count": 2,
     "metadata": {},
     "output_type": "execute_result"
    }
   ],
   "source": [
    "5 + 3 * 4"
   ]
  },
  {
   "cell_type": "code",
   "execution_count": 3,
   "id": "11e5c408",
   "metadata": {},
   "outputs": [
    {
     "data": {
      "text/plain": [
       "60"
      ]
     },
     "execution_count": 3,
     "metadata": {},
     "output_type": "execute_result"
    }
   ],
   "source": [
    "(7 + 3) * 6"
   ]
  },
  {
   "cell_type": "code",
   "execution_count": 4,
   "id": "af22dbf8",
   "metadata": {},
   "outputs": [
    {
     "data": {
      "text/plain": [
       "243"
      ]
     },
     "execution_count": 4,
     "metadata": {},
     "output_type": "execute_result"
    }
   ],
   "source": [
    "3 ** 5"
   ]
  },
  {
   "cell_type": "code",
   "execution_count": 5,
   "id": "e2612d7a",
   "metadata": {},
   "outputs": [
    {
     "data": {
      "text/plain": [
       "4"
      ]
     },
     "execution_count": 5,
     "metadata": {},
     "output_type": "execute_result"
    }
   ],
   "source": [
    "30 // 7"
   ]
  },
  {
   "cell_type": "code",
   "execution_count": 6,
   "id": "25cc336d",
   "metadata": {},
   "outputs": [
    {
     "data": {
      "text/plain": [
       "3"
      ]
     },
     "execution_count": 6,
     "metadata": {},
     "output_type": "execute_result"
    }
   ],
   "source": [
    "35 % 8"
   ]
  },
  {
   "cell_type": "code",
   "execution_count": 12,
   "id": "2b02c7f4",
   "metadata": {},
   "outputs": [
    {
     "data": {
      "text/plain": [
       "3.0"
      ]
     },
     "execution_count": 12,
     "metadata": {},
     "output_type": "execute_result"
    }
   ],
   "source": [
    "(6-1) * ((5-2) / (8 - 3))"
   ]
  },
  {
   "cell_type": "markdown",
   "id": "7b8fd76d",
   "metadata": {},
   "source": [
    "#Augumented Assignment Operators\n",
    "\n",
    "Operator               Equivalent\n",
    "\n",
    "a += 1                 a = a + 1\n",
    "a -= 1                 a = a - 1\n",
    "a *= 1                 a = a * 1\n",
    "a /= 1                 a = a / 1\n",
    "a %= 1                 a = a % 1"
   ]
  },
  {
   "cell_type": "code",
   "execution_count": 14,
   "id": "868258cc",
   "metadata": {},
   "outputs": [],
   "source": [
    "#Examples"
   ]
  },
  {
   "cell_type": "code",
   "execution_count": 20,
   "id": "a2823630",
   "metadata": {},
   "outputs": [],
   "source": [
    "name = 'Sandeep'"
   ]
  },
  {
   "cell_type": "code",
   "execution_count": 21,
   "id": "c8b4e841",
   "metadata": {},
   "outputs": [],
   "source": [
    "name += ' Bandi'"
   ]
  },
  {
   "cell_type": "code",
   "execution_count": 22,
   "id": "0b2f3d28",
   "metadata": {},
   "outputs": [
    {
     "data": {
      "text/plain": [
       "'Sandeep Bandi'"
      ]
     },
     "execution_count": 22,
     "metadata": {},
     "output_type": "execute_result"
    }
   ],
   "source": [
    "name"
   ]
  },
  {
   "cell_type": "code",
   "execution_count": 24,
   "id": "ec34a142",
   "metadata": {},
   "outputs": [
    {
     "data": {
      "text/plain": [
       "13"
      ]
     },
     "execution_count": 24,
     "metadata": {},
     "output_type": "execute_result"
    }
   ],
   "source": [
    "num = 5\n",
    "num += 8\n",
    "num"
   ]
  },
  {
   "cell_type": "code",
   "execution_count": 26,
   "id": "80a79df9",
   "metadata": {},
   "outputs": [
    {
     "data": {
      "text/plain": [
       "['pen', 'pen', 'pen']"
      ]
     },
     "execution_count": 26,
     "metadata": {},
     "output_type": "execute_result"
    }
   ],
   "source": [
    "lst = [ 'pen']\n",
    "lst *= 3\n",
    "lst"
   ]
  },
  {
   "cell_type": "markdown",
   "id": "05219436",
   "metadata": {},
   "source": [
    "# Data Types"
   ]
  },
  {
   "cell_type": "markdown",
   "id": "dbb16398",
   "metadata": {},
   "source": [
    "--> Integers\n",
    "    Ex: -2, -1, 0, 1, 2, 3, 4, 5 \n",
    "        \n",
    "--> Floating Numbers\n",
    "    Ex: -1.25, -1.0, -0.5, 0.0, 1.0, 1.25\n",
    "\n",
    "--> Strings\n",
    "    Ex: 'sandeep', 'bandi', 'Hello', '20 rupees'"
   ]
  },
  {
   "cell_type": "markdown",
   "id": "0c7f4547",
   "metadata": {},
   "source": [
    "## Concatination and Replication"
   ]
  },
  {
   "cell_type": "markdown",
   "id": "40bc70f0",
   "metadata": {},
   "source": [
    "### String Concatination"
   ]
  },
  {
   "cell_type": "code",
   "execution_count": 27,
   "id": "b64be55a",
   "metadata": {},
   "outputs": [
    {
     "data": {
      "text/plain": [
       "'Sandeep Bandi'"
      ]
     },
     "execution_count": 27,
     "metadata": {},
     "output_type": "execute_result"
    }
   ],
   "source": [
    "'Sandeep' + ' Bandi'"
   ]
  },
  {
   "cell_type": "code",
   "execution_count": 30,
   "id": "3571c064",
   "metadata": {},
   "outputs": [
    {
     "data": {
      "text/plain": [
       "'Hi 15'"
      ]
     },
     "execution_count": 30,
     "metadata": {},
     "output_type": "execute_result"
    }
   ],
   "source": [
    "'Hi' + ' 15'"
   ]
  },
  {
   "cell_type": "markdown",
   "id": "403943fe",
   "metadata": {},
   "source": [
    "### string Replication"
   ]
  },
  {
   "cell_type": "code",
   "execution_count": 31,
   "id": "6995e9a8",
   "metadata": {},
   "outputs": [
    {
     "data": {
      "text/plain": [
       "'SandeepSandeepSandeep'"
      ]
     },
     "execution_count": 31,
     "metadata": {},
     "output_type": "execute_result"
    }
   ],
   "source": [
    "'Sandeep' * 3"
   ]
  },
  {
   "cell_type": "code",
   "execution_count": 32,
   "id": "db5937e6",
   "metadata": {},
   "outputs": [
    {
     "data": {
      "text/plain": [
       "'2525252525'"
      ]
     },
     "execution_count": 32,
     "metadata": {},
     "output_type": "execute_result"
    }
   ],
   "source": [
    "'25' * 5"
   ]
  },
  {
   "cell_type": "markdown",
   "id": "ba0fdc17",
   "metadata": {},
   "source": [
    "## Variables\n",
    "\n",
    "You can name a variable anything as long as it obeys the following rules"
   ]
  },
  {
   "cell_type": "code",
   "execution_count": 33,
   "id": "d1576c58",
   "metadata": {},
   "outputs": [
    {
     "ename": "SyntaxError",
     "evalue": "invalid syntax (3374394367.py, line 3)",
     "output_type": "error",
     "traceback": [
      "\u001b[1;36m  Cell \u001b[1;32mIn[33], line 3\u001b[1;36m\u001b[0m\n\u001b[1;33m    my name = 'Sandeep'\u001b[0m\n\u001b[1;37m       ^\u001b[0m\n\u001b[1;31mSyntaxError\u001b[0m\u001b[1;31m:\u001b[0m invalid syntax\n"
     ]
    }
   ],
   "source": [
    "# 1.It can have only one word\n",
    "\n",
    "my name = 'Sandeep'"
   ]
  },
  {
   "cell_type": "code",
   "execution_count": 35,
   "id": "e2aae459",
   "metadata": {},
   "outputs": [
    {
     "data": {
      "text/plain": [
       "'sandeep'"
      ]
     },
     "execution_count": 35,
     "metadata": {},
     "output_type": "execute_result"
    }
   ],
   "source": [
    "name = 'sandeep'\n",
    "name"
   ]
  },
  {
   "cell_type": "code",
   "execution_count": 36,
   "id": "d9b89683",
   "metadata": {},
   "outputs": [
    {
     "name": "stderr",
     "output_type": "stream",
     "text": [
      "UsageError: Line magic function `%$@name` not found.\n"
     ]
    }
   ],
   "source": [
    "# 2. It can use only letters , numbers, underscore('_') characters.\n",
    "\n",
    "%$@name = 'Sandeep'"
   ]
  },
  {
   "cell_type": "code",
   "execution_count": 37,
   "id": "63c44a50",
   "metadata": {},
   "outputs": [
    {
     "data": {
      "text/plain": [
       "'Sandeep Bandi'"
      ]
     },
     "execution_count": 37,
     "metadata": {},
     "output_type": "execute_result"
    }
   ],
   "source": [
    "my_name = 'Sandeep Bandi'\n",
    "my_name"
   ]
  },
  {
   "cell_type": "code",
   "execution_count": 38,
   "id": "84d1887b",
   "metadata": {},
   "outputs": [
    {
     "data": {
      "text/plain": [
       "'SANDEEP BANDI'"
      ]
     },
     "execution_count": 38,
     "metadata": {},
     "output_type": "execute_result"
    }
   ],
   "source": [
    "my_name_capital = 'SANDEEP BANDI'\n",
    "my_name_capital"
   ]
  },
  {
   "cell_type": "code",
   "execution_count": 39,
   "id": "c137ec2f",
   "metadata": {},
   "outputs": [
    {
     "ename": "SyntaxError",
     "evalue": "invalid decimal literal (3673271857.py, line 2)",
     "output_type": "error",
     "traceback": [
      "\u001b[1;36m  Cell \u001b[1;32mIn[39], line 2\u001b[1;36m\u001b[0m\n\u001b[1;33m    924_name = 'Sandeep'\u001b[0m\n\u001b[1;37m       ^\u001b[0m\n\u001b[1;31mSyntaxError\u001b[0m\u001b[1;31m:\u001b[0m invalid decimal literal\n"
     ]
    }
   ],
   "source": [
    "# 3. It cannot begin with number\n",
    "924_name = 'Sandeep'"
   ]
  },
  {
   "cell_type": "code",
   "execution_count": 40,
   "id": "487797d8",
   "metadata": {},
   "outputs": [],
   "source": [
    "#4. Variable name starting with an underscore (_) are considered as “unuseful”\n",
    "\n",
    "_name = 'Sandeep'\n",
    "\n",
    "# _spam cannot be used again in the code"
   ]
  },
  {
   "cell_type": "markdown",
   "id": "1561cdb6",
   "metadata": {},
   "source": [
    "## Comments"
   ]
  },
  {
   "cell_type": "raw",
   "id": "91db7934",
   "metadata": {},
   "source": [
    "Inline comment:\n",
    "    \n",
    "    # This is comment\n",
    "    \n",
    "Multiline comment:\n",
    "    # Hi\n",
    "    # python"
   ]
  },
  {
   "cell_type": "code",
   "execution_count": 43,
   "id": "1ad776ec",
   "metadata": {},
   "outputs": [],
   "source": [
    "a = 1 # intialization\n"
   ]
  },
  {
   "cell_type": "markdown",
   "id": "0b88e5e7",
   "metadata": {},
   "source": [
    "## The print() Function\n",
    "The print() function writes the value of the argument(s) it is given. It handles multiple arguments, floating point-quantities, and strings. Strings are printed without quotes, and a space is inserted between items, so you can format things nicely:"
   ]
  },
  {
   "cell_type": "code",
   "execution_count": 47,
   "id": "358a2587",
   "metadata": {},
   "outputs": [
    {
     "name": "stdout",
     "output_type": "stream",
     "text": [
      "Hello python!\n"
     ]
    }
   ],
   "source": [
    "print('Hello python!')"
   ]
  },
  {
   "cell_type": "code",
   "execution_count": 48,
   "id": "f12ab9cc",
   "metadata": {},
   "outputs": [
    {
     "name": "stdout",
     "output_type": "stream",
     "text": [
      "Hello Python!  1\n"
     ]
    }
   ],
   "source": [
    "a = 1\n",
    "print('Hello Python! ', a)"
   ]
  },
  {
   "cell_type": "markdown",
   "id": "e2cdaae7",
   "metadata": {},
   "source": [
    "### The end keyword in Print Function()\n",
    "The keyword argument \"end\"can be used to avoid the newline after the output, or end the output with a different string."
   ]
  },
  {
   "cell_type": "code",
   "execution_count": 51,
   "id": "e139aa4d",
   "metadata": {},
   "outputs": [
    {
     "name": "stdout",
     "output_type": "stream",
     "text": [
      "Hello-My-Name-Is-Sandeep-Bandi-"
     ]
    }
   ],
   "source": [
    "sentence = ['Hello', 'My', 'Name','Is','Sandeep','Bandi']\n",
    "for i in sentence:\n",
    "    print(i , end='-')"
   ]
  },
  {
   "cell_type": "markdown",
   "id": "871468e4",
   "metadata": {},
   "source": [
    "### The Sep keyword in Print Function()\n",
    "The keyword \"sep\" specify how to separate the objects, if there is more than one:"
   ]
  },
  {
   "cell_type": "code",
   "execution_count": 52,
   "id": "936e541b",
   "metadata": {},
   "outputs": [
    {
     "name": "stdout",
     "output_type": "stream",
     "text": [
      "apple,mango,orange,banana\n"
     ]
    }
   ],
   "source": [
    "print('apple', 'mango','orange','banana', sep=',')"
   ]
  },
  {
   "cell_type": "markdown",
   "id": "d59c94cb",
   "metadata": {},
   "source": [
    "## The input() Function\n",
    "The function takes the input from the user and converts it into a string."
   ]
  },
  {
   "cell_type": "code",
   "execution_count": 54,
   "id": "e5d6e195",
   "metadata": {},
   "outputs": [
    {
     "name": "stdout",
     "output_type": "stream",
     "text": [
      "What is your name ? \n",
      "Sandeep Bandi\n",
      "Hi,Sandeep Bandi\n"
     ]
    }
   ],
   "source": [
    "print('What is your name ? ')\n",
    "my_name = input()\n",
    "print('Hi,{}'.format(my_name))"
   ]
  },
  {
   "cell_type": "code",
   "execution_count": 56,
   "id": "f67df2cc",
   "metadata": {},
   "outputs": [
    {
     "name": "stdout",
     "output_type": "stream",
     "text": [
      "what is your name ?Sandeep Bandi\n",
      "Hi, Sandeep Bandi\n"
     ]
    }
   ],
   "source": [
    "# input() can also set a default message without using print()\n",
    "\n",
    "my_name = input('what is your name ?')   #default message\n",
    "print('Hi, {}'.format(my_name))"
   ]
  },
  {
   "cell_type": "code",
   "execution_count": 57,
   "id": "b00163cb",
   "metadata": {},
   "outputs": [
    {
     "name": "stdout",
     "output_type": "stream",
     "text": [
      "what is your name ?Sandeep Bandi\n",
      "Hi, Sandeep Bandi\n"
     ]
    }
   ],
   "source": [
    "# It is also possible to use formatted strings to avoid using .format\n",
    "\n",
    "my_name = input('what is your name ?')   #default message\n",
    "print(f'Hi, {my_name}')"
   ]
  },
  {
   "cell_type": "markdown",
   "id": "c8d808fa",
   "metadata": {},
   "source": [
    "## The len() Function\n",
    "Evaluates to the integer value of the number of characters in a string, list, dictionary, etc."
   ]
  },
  {
   "cell_type": "code",
   "execution_count": 58,
   "id": "c5ba5936",
   "metadata": {},
   "outputs": [
    {
     "data": {
      "text/plain": [
       "6"
      ]
     },
     "execution_count": 58,
     "metadata": {},
     "output_type": "execute_result"
    }
   ],
   "source": [
    "len('python')"
   ]
  },
  {
   "cell_type": "code",
   "execution_count": 59,
   "id": "5ca016ed",
   "metadata": {},
   "outputs": [
    {
     "data": {
      "text/plain": [
       "3"
      ]
     },
     "execution_count": 59,
     "metadata": {},
     "output_type": "execute_result"
    }
   ],
   "source": [
    "len(['cat',45,'elephant'])"
   ]
  },
  {
   "cell_type": "markdown",
   "id": "650196a4",
   "metadata": {},
   "source": [
    "\n",
    "### The str(), int(), and float() Functions\n",
    "These functions allow you to change the type of variable. For example, you can transform from an integer or float to a string"
   ]
  },
  {
   "cell_type": "code",
   "execution_count": 63,
   "id": "bba1654d",
   "metadata": {},
   "outputs": [
    {
     "data": {
      "text/plain": [
       "'26'"
      ]
     },
     "execution_count": 63,
     "metadata": {},
     "output_type": "execute_result"
    }
   ],
   "source": [
    "str(26)"
   ]
  },
  {
   "cell_type": "code",
   "execution_count": 64,
   "id": "6e79189f",
   "metadata": {},
   "outputs": [
    {
     "data": {
      "text/plain": [
       "'-3.14'"
      ]
     },
     "execution_count": 64,
     "metadata": {},
     "output_type": "execute_result"
    }
   ],
   "source": [
    "str(-3.14)"
   ]
  },
  {
   "cell_type": "code",
   "execution_count": 65,
   "id": "5eeffa85",
   "metadata": {},
   "outputs": [
    {
     "data": {
      "text/plain": [
       "15"
      ]
     },
     "execution_count": 65,
     "metadata": {},
     "output_type": "execute_result"
    }
   ],
   "source": [
    "# str to int or float\n",
    "int('15')"
   ]
  },
  {
   "cell_type": "code",
   "execution_count": 66,
   "id": "6082bcca",
   "metadata": {},
   "outputs": [
    {
     "data": {
      "text/plain": [
       "3.14"
      ]
     },
     "execution_count": 66,
     "metadata": {},
     "output_type": "execute_result"
    }
   ],
   "source": [
    "float('3.14')"
   ]
  },
  {
   "cell_type": "code",
   "execution_count": null,
   "id": "25c51583",
   "metadata": {},
   "outputs": [],
   "source": [
    "## Type casting"
   ]
  },
  {
   "cell_type": "code",
   "execution_count": 62,
   "id": "c9150656",
   "metadata": {},
   "outputs": [
    {
     "name": "stdout",
     "output_type": "stream",
     "text": [
      "<class 'int'>\n",
      "<class 'str'>\n"
     ]
    }
   ],
   "source": [
    "num = 45\n",
    "print(type(num))\n",
    "\n",
    "#type casting int to str\n",
    "a = str(num)\n",
    "print(type(a))"
   ]
  },
  {
   "cell_type": "code",
   "execution_count": null,
   "id": "e84e5bf5",
   "metadata": {},
   "outputs": [],
   "source": []
  }
 ],
 "metadata": {
  "kernelspec": {
   "display_name": "Python 3 (ipykernel)",
   "language": "python",
   "name": "python3"
  },
  "language_info": {
   "codemirror_mode": {
    "name": "ipython",
    "version": 3
   },
   "file_extension": ".py",
   "mimetype": "text/x-python",
   "name": "python",
   "nbconvert_exporter": "python",
   "pygments_lexer": "ipython3",
   "version": "3.10.9"
  }
 },
 "nbformat": 4,
 "nbformat_minor": 5
}
